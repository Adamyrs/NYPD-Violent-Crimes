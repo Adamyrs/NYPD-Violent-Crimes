{
 "cells": [
  {
   "cell_type": "code",
   "execution_count": null,
   "id": "b3b23ebd-35a5-4fad-82a8-1e122aff45a9",
   "metadata": {},
   "outputs": [
    {
     "name": "stderr",
     "output_type": "stream",
     "text": [
      "<ipython-input-1-c9200fa6ce7a>:15: UserWarning: This pattern is interpreted as a regular expression, and has match groups. To actually get the groups, use str.extract.\n",
      "  df = df[~df['OFNS_DESC'].str.contains(word_to_filter, case=False)]\n"
     ]
    },
    {
     "data": {
      "image/png": "[encoded data removed]",
      "text/plain": [
       "<Figure size 720x288 with 1 Axes>"
      ]
     },
     "metadata": {
      "needs_background": "light"
     },
     "output_type": "display_data"
    }
   ],
   "source": [
    "import numpy as np\n",
    "import pandas as pd\n",
    "import seaborn as sns  \n",
    "import matplotlib.pyplot as plt\n",
    "%matplotlib inline\n",
    "from datetime import datetime\n",
    "import folium\n",
    "from folium.plugins import MarkerCluster\n",
    "from IPython.display import IFrame\n",
    "\n",
    "df = pd.read_csv(\"NYPD_Arrest_Data.csv\", usecols = ['ARREST_DATE', 'OFNS_DESC', 'ARREST_BORO', 'Latitude', 'Longitude'])\n",
    "df.fillna(0, inplace=True)\n",
    "word_to_filter = '(null)'\n",
    "\n",
    "df = df[~df['OFNS_DESC'].str.contains(word_to_filter, case=False)]\n",
    "df.to_csv('NYPD_Data.csv', index=False)\n",
    "\n",
    "column_name = 'OFNS_DESC'\n",
    "\n",
    "desired_values = ['ARREST_BORO', 'ROBBERY', 'ARSON', 'KIDNAPPING & RELATED OFFENSES', 'KIDNAPPING', 'OFFENSES RELATED TO CHILDREN', 'MURDER & NON-NEGL. MANSLAUGHTE', 'FELONY ASSAULT', 'ASSAULT 3 & RELATED OFFENSES','RAPE','SEX CRIMES', 'DANGEROUS WEAPONS']\n",
    "\n",
    "df = df[df[column_name].isin(desired_values)]\n",
    "\n",
    "def replace_borough_acronyms(csv_file, ARREST_BORO):\n",
    "    \n",
    "    borough_mapping = {'M': 'Manhattan', 'B': 'Bronx', 'Q': 'Queens', 'K': 'Brooklyn', 'S': 'Staten Island'}\n",
    "\n",
    "    df[ARREST_BORO] = df[ARREST_BORO].replace(borough_mapping)\n",
    "\n",
    "    df.to_csv(csv_file, index=False)\n",
    "\n",
    "csv_file_path = 'NYPD_Data.csv'\n",
    "column_to_replace = 'ARREST_BORO'\n",
    "\n",
    "replace_borough_acronyms(csv_file_path, column_to_replace)\n",
    "\n",
    "borough_column = 'ARREST_BORO'\n",
    "\n",
    "borough_counts = df[borough_column].value_counts()\n",
    "\n",
    "plt.figure(figsize=(10, 4))\n",
    "sns.barplot(x=borough_counts.index, y=borough_counts.values, palette='viridis')\n",
    "plt.title('Violent Crimes by Borough from January to July 2023')\n",
    "plt.xlabel('Borough')\n",
    "plt.ylabel('Number of Crimes')\n",
    "plt.show()\n",
    "\n",
    "map_center = [df['Latitude'].mean(), df['Longitude'].mean()]\n",
    "my_map = folium.Map(location=map_center, zoom_start=12)\n",
    "\n",
    "marker_cluster = MarkerCluster().add_to(my_map)\n",
    "\n",
    "title_html = '<h3 align=\"center\" style=\"font-size:16px\"><b>Violent Crimes in NYC from January to July 2023</b></h3>'\n",
    "my_map.get_root().html.add_child(folium.Element(title_html))\n",
    "\n",
    "for index, row in df.iterrows():\n",
    "    folium.Marker(location=[row['Latitude'], row['Longitude']],\n",
    "                  popup=f\"{row['OFNS_DESC']} ({row['Latitude']}, {row['Longitude']})\").add_to(marker_cluster)\n",
    "my_map\n",
    "\n",
    "map_filename = \"crime_map.html\"\n",
    "my_map.save(map_filename)\n",
    "\n",
    "IFrame(map_filename, width=625, height=400)"
   ]
  },
  {
   "cell_type": "code",
   "execution_count": null,
   "id": "d4fc468b-7214-4fc4-ac4e-99b046bbc5b7",
   "metadata": {},
   "outputs": [],
   "source": []
  }
 ],
 "metadata": {
  "kernelspec": {
   "display_name": "Python 3",
   "language": "python",
   "name": "python3"
  },
  "language_info": {
   "codemirror_mode": {
    "name": "ipython",
    "version": 3
   },
   "file_extension": ".py",
   "mimetype": "text/x-python",
   "name": "python",
   "nbconvert_exporter": "python",
   "pygments_lexer": "ipython3",
   "version": "3.8.8"
  }
 },
 "nbformat": 4,
 "nbformat_minor": 5
}
